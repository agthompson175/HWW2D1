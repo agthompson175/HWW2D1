{
 "cells": [
  {
   "cell_type": "code",
   "execution_count": 2,
   "id": "16f24280",
   "metadata": {},
   "outputs": [
    {
     "name": "stdout",
     "output_type": "stream",
     "text": [
      "choose your first number  20\n",
      "choose your math operator from the following: -, +, =, *, /, %, **  **\n",
      "choose your second number  4\n",
      "160000\n"
     ]
    }
   ],
   "source": [
    "number=input(\"choose your first number  \")\n",
    "operator=input(\"choose your math operator from the following: -, +, =, *, /, %, **  \")\n",
    "number2=input(\"choose your second number  \")\n",
    "\n",
    "\n",
    "def calculator(num1, num2, op):\n",
    "    if op == '-':\n",
    "        print(int(num1) - int(num2))\n",
    "    elif op == '+':\n",
    "        print(int(num1)+int(num2))\n",
    "    elif op == '=':\n",
    "        print(int(num1))\n",
    "    elif op == '*':\n",
    "        print(int(num1) * int(num2))\n",
    "    elif op == '/':\n",
    "        print(int(num1)/int(num2))\n",
    "    elif op == '%':\n",
    "        print(int(num1)%int(num2))\n",
    "    elif op == '**':\n",
    "        print(int(num1)**int(num2))\n",
    "    else:\n",
    "        print('operator not listed')\n",
    "\n",
    "\n",
    "calculator(number, number2, operator)"
   ]
  },
  {
   "cell_type": "code",
   "execution_count": null,
   "id": "63e38b92",
   "metadata": {},
   "outputs": [],
   "source": []
  },
  {
   "cell_type": "code",
   "execution_count": 1,
   "id": "10dfd917",
   "metadata": {},
   "outputs": [
    {
     "name": "stdout",
     "output_type": "stream",
     "text": [
      "how many levels in your pyramid? 30\n",
      "                               X\n",
      "                              XXX\n",
      "                             XXXXX\n",
      "                            XXXXXXX\n",
      "                           XXXXXXXXX\n",
      "                          XXXXXXXXXXX\n",
      "                         XXXXXXXXXXXXX\n",
      "                        XXXXXXXXXXXXXXX\n",
      "                       XXXXXXXXXXXXXXXXX\n",
      "                      XXXXXXXXXXXXXXXXXXX\n",
      "                     XXXXXXXXXXXXXXXXXXXXX\n",
      "                    XXXXXXXXXXXXXXXXXXXXXXX\n",
      "                   XXXXXXXXXXXXXXXXXXXXXXXXX\n",
      "                  XXXXXXXXXXXXXXXXXXXXXXXXXXX\n",
      "                 XXXXXXXXXXXXXXXXXXXXXXXXXXXXX\n",
      "                XXXXXXXXXXXXXXXXXXXXXXXXXXXXXXX\n",
      "               XXXXXXXXXXXXXXXXXXXXXXXXXXXXXXXXX\n",
      "              XXXXXXXXXXXXXXXXXXXXXXXXXXXXXXXXXXX\n",
      "             XXXXXXXXXXXXXXXXXXXXXXXXXXXXXXXXXXXXX\n",
      "            XXXXXXXXXXXXXXXXXXXXXXXXXXXXXXXXXXXXXXX\n",
      "           XXXXXXXXXXXXXXXXXXXXXXXXXXXXXXXXXXXXXXXXX\n",
      "          XXXXXXXXXXXXXXXXXXXXXXXXXXXXXXXXXXXXXXXXXXX\n",
      "         XXXXXXXXXXXXXXXXXXXXXXXXXXXXXXXXXXXXXXXXXXXXX\n",
      "        XXXXXXXXXXXXXXXXXXXXXXXXXXXXXXXXXXXXXXXXXXXXXXX\n",
      "       XXXXXXXXXXXXXXXXXXXXXXXXXXXXXXXXXXXXXXXXXXXXXXXXX\n",
      "      XXXXXXXXXXXXXXXXXXXXXXXXXXXXXXXXXXXXXXXXXXXXXXXXXXX\n",
      "     XXXXXXXXXXXXXXXXXXXXXXXXXXXXXXXXXXXXXXXXXXXXXXXXXXXXX\n",
      "    XXXXXXXXXXXXXXXXXXXXXXXXXXXXXXXXXXXXXXXXXXXXXXXXXXXXXXX\n",
      "   XXXXXXXXXXXXXXXXXXXXXXXXXXXXXXXXXXXXXXXXXXXXXXXXXXXXXXXXX\n",
      "  XXXXXXXXXXXXXXXXXXXXXXXXXXXXXXXXXXXXXXXXXXXXXXXXXXXXXXXXXXX\n"
     ]
    }
   ],
   "source": [
    "n=input('how many levels in your pyramid? ')\n",
    "\n",
    "def pyramidScheme(tall):\n",
    "    level=int(tall)+1\n",
    "    base=1\n",
    "    while level >1:\n",
    "        print((' '*int(level))+('X'*(int(base*2)-1)))\n",
    "        level-=1\n",
    "        base+=1\n",
    "\n",
    "\n",
    "\n",
    "pyramidScheme(n)"
   ]
  }
 ],
 "metadata": {
  "kernelspec": {
   "display_name": "Python 3",
   "language": "python",
   "name": "python3"
  },
  "language_info": {
   "codemirror_mode": {
    "name": "ipython",
    "version": 3
   },
   "file_extension": ".py",
   "mimetype": "text/x-python",
   "name": "python",
   "nbconvert_exporter": "python",
   "pygments_lexer": "ipython3",
   "version": "3.9.5"
  }
 },
 "nbformat": 4,
 "nbformat_minor": 5
}
